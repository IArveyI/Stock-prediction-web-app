{
  "nbformat": 4,
  "nbformat_minor": 0,
  "metadata": {
    "colab": {
      "name": "Prediction web app.ipynb",
      "provenance": [],
      "collapsed_sections": []
    },
    "kernelspec": {
      "name": "python3",
      "display_name": "Python 3"
    },
    "language_info": {
      "name": "python"
    }
  },
  "cells": [
    {
      "cell_type": "markdown",
      "source": [
        "## STOCK PREDICTION WEB APP"
      ],
      "metadata": {
        "id": "E6HAV8LAs_xM"
      }
    },
    {
      "cell_type": "markdown",
      "source": [
        "This project allows the prediction of the stock values of different companies through the Facebook Prophet tool, which allows an automated and more efficient prediction for the implementation of the models. To visualize the data, a web application built with the streamlit library was used, which allows the creation of apps in a fast and simple way."
      ],
      "metadata": {
        "id": "XkeE_wuAMsrA"
      }
    },
    {
      "cell_type": "markdown",
      "source": [
        "# Required libraries"
      ],
      "metadata": {
        "id": "NUM_toLaMyhD"
      }
    },
    {
      "cell_type": "markdown",
      "source": [
        "Install the following libraries:"
      ],
      "metadata": {
        "id": "6XddYc3lNYyP"
      }
    },
    {
      "cell_type": "code",
      "execution_count": 1,
      "metadata": {
        "id": "Q6txP_bNlmbu"
      },
      "outputs": [],
      "source": [
        "%%capture\n",
        "!pip install streamlit # Web app\n",
        "!pip instlal prophet # Prediction\n",
        "!pip install yfinance # Stock data collection\n",
        "!pip install plotly # Data visualization\n",
        "!pip install pyngrok # Web app host"
      ]
    },
    {
      "cell_type": "markdown",
      "source": [
        "Before implementing the model, a local host for the web application is created using the pyngrok library."
      ],
      "metadata": {
        "id": "tKcSd_T4N1SC"
      }
    },
    {
      "cell_type": "code",
      "source": [
        "%%capture\n",
        "!./ngrok authtokens 2DE2fhWhSFo9oYaxGJwIhSsyJyc_21DAbu3behebdMS4tysE5\n",
        "from pyngrok import ngrok \n",
        "public_url = ngrok.connect(port='8501')"
      ],
      "metadata": {
        "id": "rjrD3lQXheuR"
      },
      "execution_count": 2,
      "outputs": []
    },
    {
      "cell_type": "markdown",
      "source": [
        "The implementation of the model is done in a single cell, this so that the host to the web application."
      ],
      "metadata": {
        "id": "u0x3tfp6OiFh"
      }
    },
    {
      "cell_type": "code",
      "source": [
        "#Save the script in a Python file\n",
        "%%writefile streamlit_app.py \n",
        "\n",
        "#Libraries \n",
        "import streamlit as st\n",
        "import yfinance as yf\n",
        "from datetime import date\n",
        "from prophet import Prophet\n",
        "from prophet.plot import plot_plotly\n",
        "from plotly import graph_objs as go\n",
        "\n",
        "#Prediction dates\n",
        "START = '2015-01-01'\n",
        "TODAY = date.today().strftime('%Y-%m-%d')\n",
        "\n",
        "#Web app title\n",
        "st.title('Stock Prediction App')\n",
        "\n",
        "#Selected stocks to predict\n",
        "stocks = ('GOOG', 'MSFT', 'GME') #Add or change to any you want\n",
        "selected_stock = st.selectbox('Select dataset for prediction', stocks)\n",
        "\n",
        "#Years to predict\n",
        "n_year = st.slider('Years of prediction:', 1, 4)\n",
        "period = n_year * 365 \n",
        "\n",
        "#Loading data \n",
        "\n",
        "def load_data(ticker):\n",
        "    data = yf.download(ticker, START, TODAY)\n",
        "    data.reset_index(inplace = True)\n",
        "    return data\n",
        "\n",
        "data = load_data(selected_stock)\n",
        "\n",
        "#Displaying row data\n",
        "\n",
        "st.subheader('Raw data')\n",
        "st.write(data.tail())\n",
        "\n",
        "def plot_raw_data():\n",
        "    fig = go.Figure()\n",
        "    fig.add_trace(go.Scatter(x = data['Date'], y = data['Open'], name = 'stock_open'))\n",
        "    fig.add_trace(go.Scatter(x = data['Date'], y = data['Close'], name = 'stock_close'))\n",
        "    fig.layout.update(title_text = 'Time Series Data', xaxis_rangeslider_visible = True)\n",
        "    st.plotly_chart(fig)\n",
        "\n",
        "plot_raw_data()\n",
        "\n",
        "#Forecasting\n",
        "\n",
        "df_train = data[['Close','Date']]\n",
        "df_train = df_train.rename(columns = {'Date': 'ds', 'Close': 'y'})\n",
        "\n",
        "#Model implementation\n",
        "m = Prophet()\n",
        "m.fit(df_train)\n",
        "future = m.make_future_dataframe(periods = period)\n",
        "forecast = m.predict(future)\n",
        "\n",
        "#Display of results\n",
        "st.subheader('Forecast data')\n",
        "st.write(forecast.tail())\n",
        "\n",
        "fig1 = plot_plotly(m, forecast)\n",
        "st.plotly_chart(fig1)"
      ],
      "metadata": {
        "colab": {
          "base_uri": "https://localhost:8080/"
        },
        "id": "XMrVAkxHhe1R",
        "outputId": "6a5d84ba-3704-4610-82fe-e14ed70e1def"
      },
      "execution_count": 3,
      "outputs": [
        {
          "output_type": "stream",
          "name": "stdout",
          "text": [
            "Writing streamlit_app.py\n"
          ]
        }
      ]
    },
    {
      "cell_type": "markdown",
      "source": [
        "Once the model has been completed, proceed to upload the application to the host. Select the url that says: \"your url is: \""
      ],
      "metadata": {
        "id": "qO0ex6wpQfqu"
      }
    },
    {
      "cell_type": "code",
      "source": [
        "!streamlit run /content/streamlit_app.py & npx localtunnel --port 8501    "
      ],
      "metadata": {
        "colab": {
          "base_uri": "https://localhost:8080/"
        },
        "id": "pmOQUrWggJ-Z",
        "outputId": "6a2b0ce5-bf6f-4ce3-cdb0-25a0b167e476"
      },
      "execution_count": 4,
      "outputs": [
        {
          "output_type": "stream",
          "name": "stdout",
          "text": [
            "2022-08-17 05:34:26.861 INFO    numexpr.utils: NumExpr defaulting to 2 threads.\n",
            "\u001b[0m\n",
            "\u001b[34m\u001b[1m  You can now view your Streamlit app in your browser.\u001b[0m\n",
            "\u001b[0m\n",
            "\u001b[34m  Network URL: \u001b[0m\u001b[1mhttp://172.28.0.2:8501\u001b[0m\n",
            "\u001b[34m  External URL: \u001b[0m\u001b[1mhttp://34.85.180.154:8501\u001b[0m\n",
            "\u001b[0m\n",
            "\u001b[K\u001b[?25hnpx: installed 22 in 3.793s\n",
            "your url is: https://fruity-terms-stop-34-85-180-154.loca.lt\n",
            "[*********************100%***********************]  1 of 1 completed\n",
            "2022-08-17 05:34:44.376 Disabling daily seasonality. Run prophet with daily_seasonality=True to override this.\n",
            "2022-08-17 05:34:44.411 input tempfile: /tmp/tmpsaigokm_/ud5e7q4w.json\n",
            "2022-08-17 05:34:44.443 input tempfile: /tmp/tmpsaigokm_/t_yfe1k4.json\n",
            "2022-08-17 05:34:44.444 idx 0\n",
            "2022-08-17 05:34:44.444 running CmdStan, num_threads: None\n",
            "2022-08-17 05:34:44.445 CmdStan args: ['/usr/local/lib/python3.7/dist-packages/prophet/stan_model/prophet_model.bin', 'random', 'seed=58956', 'data', 'file=/tmp/tmpsaigokm_/ud5e7q4w.json', 'init=/tmp/tmpsaigokm_/t_yfe1k4.json', 'output', 'file=/tmp/tmpdo6zelm_/prophet_model-20220817053444.csv', 'method=optimize', 'algorithm=lbfgs', 'iter=10000']\n",
            "05:34:44 - cmdstanpy - INFO - Chain [1] start processing\n",
            "2022-08-17 05:34:44.445 Chain [1] start processing\n",
            "05:34:45 - cmdstanpy - INFO - Chain [1] done processing\n",
            "2022-08-17 05:34:45.303 Chain [1] done processing\n",
            "[*********************100%***********************]  1 of 1 completed\n",
            "2022-08-17 05:34:49.002 Disabling daily seasonality. Run prophet with daily_seasonality=True to override this.\n",
            "2022-08-17 05:34:49.078 input tempfile: /tmp/tmpsaigokm_/gmc8uptc.json\n",
            "2022-08-17 05:34:49.112 input tempfile: /tmp/tmpsaigokm_/rdmxaht7.json\n",
            "2022-08-17 05:34:49.114 idx 0\n",
            "2022-08-17 05:34:49.114 running CmdStan, num_threads: None\n",
            "2022-08-17 05:34:49.115 CmdStan args: ['/usr/local/lib/python3.7/dist-packages/prophet/stan_model/prophet_model.bin', 'random', 'seed=73562', 'data', 'file=/tmp/tmpsaigokm_/gmc8uptc.json', 'init=/tmp/tmpsaigokm_/rdmxaht7.json', 'output', 'file=/tmp/tmpv77idm2k/prophet_model-20220817053449.csv', 'method=optimize', 'algorithm=lbfgs', 'iter=10000']\n",
            "05:34:49 - cmdstanpy - INFO - Chain [1] start processing\n",
            "2022-08-17 05:34:49.115 Chain [1] start processing\n",
            "05:34:49 - cmdstanpy - INFO - Chain [1] done processing\n",
            "2022-08-17 05:34:49.723 Chain [1] done processing\n",
            "[*********************100%***********************]  1 of 1 completed\n",
            "2022-08-17 05:35:12.681 Disabling daily seasonality. Run prophet with daily_seasonality=True to override this.\n",
            "2022-08-17 05:35:12.708 input tempfile: /tmp/tmpsaigokm_/xd85f94f.json\n",
            "2022-08-17 05:35:12.735 input tempfile: /tmp/tmpsaigokm_/dyf2dfkt.json\n",
            "2022-08-17 05:35:12.736 idx 0\n",
            "2022-08-17 05:35:12.736 running CmdStan, num_threads: None\n",
            "2022-08-17 05:35:12.736 CmdStan args: ['/usr/local/lib/python3.7/dist-packages/prophet/stan_model/prophet_model.bin', 'random', 'seed=18792', 'data', 'file=/tmp/tmpsaigokm_/xd85f94f.json', 'init=/tmp/tmpsaigokm_/dyf2dfkt.json', 'output', 'file=/tmp/tmp4doy1bih/prophet_model-20220817053512.csv', 'method=optimize', 'algorithm=lbfgs', 'iter=10000']\n",
            "05:35:12 - cmdstanpy - INFO - Chain [1] start processing\n",
            "2022-08-17 05:35:12.736 Chain [1] start processing\n",
            "05:35:13 - cmdstanpy - INFO - Chain [1] done processing\n",
            "2022-08-17 05:35:13.388 Chain [1] done processing\n",
            "\u001b[34m  Stopping...\u001b[0m\n",
            "05:35:58 - cmdstanpy - INFO - deleting tmpfiles dir: /tmp/tmpsaigokm_\n",
            "2022-08-17 05:35:58.038 deleting tmpfiles dir: /tmp/tmpsaigokm_\n",
            "05:35:58 - cmdstanpy - INFO - done\n",
            "2022-08-17 05:35:58.039 done\n",
            "^C\n"
          ]
        }
      ]
    }
  ]
}